{
 "cells": [
  {
   "cell_type": "code",
   "execution_count": 16,
   "metadata": {},
   "outputs": [],
   "source": [
    "from bs4 import BeautifulSoup\n",
    "import requests as r\n",
    "from dataclasses import dataclass"
   ]
  },
  {
   "cell_type": "code",
   "execution_count": 32,
   "metadata": {},
   "outputs": [],
   "source": [
    "'''\n",
    "    we're making a class just to store some stock data\n",
    "    the dataclasses import just auto creates the init function and other base functions \n",
    "    that might be needed so we don't have to, it's just a lazy convenient way to get things done\n",
    "''' \n",
    "\n",
    "@dataclass\n",
    "class Stock:\n",
    "    ticker: str\n",
    "    exchange: str\n",
    "    price: float = 0\n",
    "    currency: str = \"USD\"\n",
    "    usd_price: float = 0\n",
    "\n",
    "    def __post_init__(self):\n",
    "\n",
    "        # get_price is a function defined below\n",
    "        price_info = get_price(self.ticker, self.exchange)\n",
    "\n",
    "        self.price = price_info['price']\n",
    "        self.currency = price_info['currency']\n",
    "        self.usd_price = price_info['usd price']"
   ]
  },
  {
   "cell_type": "code",
   "execution_count": 51,
   "metadata": {},
   "outputs": [],
   "source": [
    "# position shows us how much of which stock we have, one instance per ticker\n",
    "\n",
    "@dataclass\n",
    "class Position:\n",
    "    stock: Stock\n",
    "    quantity: int = 0"
   ]
  },
  {
   "cell_type": "code",
   "execution_count": 52,
   "metadata": {},
   "outputs": [],
   "source": [
    "# portfolio is a combination of positions\n",
    "\n",
    "@dataclass\n",
    "class Portfolio:\n",
    "    positions: list[Position]\n",
    "\n",
    "    def get_total_value(self):\n",
    "        total = 0\n",
    "\n",
    "        for t in self.positions:\n",
    "            total += t.stock.usd_price * t.quantity\n",
    "\n",
    "        return total\n"
   ]
  },
  {
   "cell_type": "code",
   "execution_count": 53,
   "metadata": {},
   "outputs": [],
   "source": [
    "# https://www.google.com/finance/quote/CAD-USD?hl=en\n",
    "\n",
    "def price_to_usd(original_currency, value):\n",
    "    url = f\"https://www.google.com/finance/quote/{original_currency}-USD?hl=en\"\n",
    "    resp = r.get(url)\n",
    "    soup = BeautifulSoup(resp.content)\n",
    "\n",
    "    # now we need to get the conversion rate\n",
    "    rate_div = soup.find(\"div\", attrs={\"data-last-price\": True})\n",
    "    rate = round(float(rate_div['data-last-price']), 4)\n",
    "\n",
    "    return round(rate * value, 2)"
   ]
  },
  {
   "cell_type": "code",
   "execution_count": 65,
   "metadata": {},
   "outputs": [],
   "source": [
    "# https://www.google.com/finance/quote/INTC:NASDAQ?hl=en\n",
    "\n",
    "def get_price(t, e):\n",
    "    url = f\"https://www.google.com/finance/quote/{t}:{e}?hl=en\"\n",
    "    resp = r.get(url)\n",
    "    soup = BeautifulSoup(resp.content)\n",
    "\n",
    "    # we need to target the div that has the data-last-price attribute\n",
    "    price_div = soup.find(\"div\", attrs={\"data-last-price\": True})\n",
    "    price = float(price_div['data-last-price'])\n",
    "    currency = price_div['data-currency-code']\n",
    "    usd_price = price_to_usd(currency, price) if currency != \"USD\" else price\n",
    "\n",
    "    return {\n",
    "        \"ticker\": t,\n",
    "        \"exchange\": e,\n",
    "        \"price\": price,\n",
    "        \"currency\": currency,\n",
    "        \"usd price\": usd_price\n",
    "    }"
   ]
  },
  {
   "cell_type": "code",
   "execution_count": 73,
   "metadata": {},
   "outputs": [],
   "source": [
    "td = Position(Stock(\"TD\", \"TSE\"), 10)\n",
    "msft = Position(Stock(\"MSFT\", \"NASDAQ\"), 3)"
   ]
  },
  {
   "cell_type": "code",
   "execution_count": 74,
   "metadata": {},
   "outputs": [
    {
     "data": {
      "text/plain": [
       "1527.1799999999998"
      ]
     },
     "execution_count": 74,
     "metadata": {},
     "output_type": "execute_result"
    }
   ],
   "source": [
    "port = Portfolio([td, msft])\n",
    "port.get_total_value()"
   ]
  },
  {
   "cell_type": "code",
   "execution_count": null,
   "metadata": {},
   "outputs": [],
   "source": []
  }
 ],
 "metadata": {
  "kernelspec": {
   "display_name": "scrapy-env",
   "language": "python",
   "name": "python3"
  },
  "language_info": {
   "codemirror_mode": {
    "name": "ipython",
    "version": 3
   },
   "file_extension": ".py",
   "mimetype": "text/x-python",
   "name": "python",
   "nbconvert_exporter": "python",
   "pygments_lexer": "ipython3",
   "version": "3.9.0"
  },
  "orig_nbformat": 4
 },
 "nbformat": 4,
 "nbformat_minor": 2
}
